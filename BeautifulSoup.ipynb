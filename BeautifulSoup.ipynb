{
 "cells": [
  {
   "cell_type": "code",
   "execution_count": 1,
   "metadata": {},
   "outputs": [
    {
     "name": "stdout",
     "output_type": "stream",
     "text": [
      "<!DOCTYPE html>\n",
      "<html>\n",
      " <head>\n",
      "  <meta content=\"text/html; charset=utf-8\" http-equiv=\"Content-Type\"/>\n",
      "  <title>\n",
      "   1、家有拆迁高手_我家二哈被附身了_玄幻小说_笔趣阁\n",
      "  </title>\n",
      "  <meta content=\"我家二哈被附身了, 1、家有拆迁高手\" name=\"keywords\"/>\n",
      "  <meta content=\"笔趣阁提供了南湖秀萝创作的玄幻小说《我家二哈被附身了》干净清爽无错字的文字章节：1、家有拆迁高手在线阅读。\" name=\"description\"/>\n",
      "  <meta content=\"no-transform\" http-equiv=\"Cache-Control\"/>\n",
      "  <meta content=\"no-siteapp\" http-equiv=\"Cache-Control\"/>\n",
      "  <meta content=\"format=html5; url=http://m.biqukan.com/44/44297/16731314.html\" http-equiv=\"mobile-agent\"/>\n",
      "  <meta content=\"format=xhtml; url=http://m.biqukan.com/44/44297/16731314.html\" http-equiv=\"mobile-agent\"/>\n",
      "  <link href=\"/css/style.css\" rel=\"stylesheet\" type=\"text/css\"/>\n",
      "  <script src=\"http://apps.bdimg.com/libs/jquery/1.8.3/jquery.min.js\">\n",
      "  </script>\n",
      "  <script src=\"/xxgg/common.js\">\n",
      "  </script>\n",
      "  <script src=\"/xxgg/read.js\">\n",
      "  </script>\n",
      "  <script type=\"text/javascript\">\n",
      "   var preview_page = \"/44_44297/\";\r\n",
      "var next_page = \"/44_44297/16731315.html\";\r\n",
      "var index_page = \"/44_44297/\";\r\n",
      "function jumpPage() {\r\n",
      "  if (event.keyCode==37) location=preview_page;\r\n",
      "  if (event.keyCode==39) location=next_page;\r\n",
      "  if (event.keyCode==13) location=index_page;\r\n",
      "}\r\n",
      "document.onkeydown=jumpPage;\n",
      "  </script>\n",
      " </head>\n",
      " <body id=\"wrapper\">\n",
      "  <script>\n",
      "   login();\n",
      "  </script>\n",
      "  <div class=\"header\">\n",
      "   <div class=\"wrap\">\n",
      "    <div class=\"logo\">\n",
      "     <a href=\"/\" title=\"笔趣阁\">\n",
      "      笔趣阁\n",
      "      <em>\n",
      "       www.biqukan.com\n",
      "      </em>\n",
      "     </a>\n",
      "    </div>\n",
      "    <script>\n",
      "     search();\n",
      "    </script>\n",
      "   </div>\n",
      "  </div>\n",
      "  <div class=\"nav\">\n",
      "   <ul>\n",
      "    <li>\n",
      "     <a href=\"http://www.biqukan.com/\">\n",
      "      首页\n",
      "     </a>\n",
      "    </li>\n",
      "    <li>\n",
      "     <a href=\"/modules/article/bookcase.php\">\n",
      "      我的书架\n",
      "     </a>\n",
      "    </li>\n",
      "    <li>\n",
      "     <a href=\"/xuanhuanxiaoshuo/\">\n",
      "      玄幻小说\n",
      "     </a>\n",
      "    </li>\n",
      "    <li>\n",
      "     <a href=\"/xiuzhenxiaoshuo/\">\n",
      "      修真小说\n",
      "     </a>\n",
      "    </li>\n",
      "    <li>\n",
      "     <a href=\"/dushixiaoshuo/\">\n",
      "      都市小说\n",
      "     </a>\n",
      "    </li>\n",
      "    <li>\n",
      "     <a href=\"/chuanyuexiaoshuo/\">\n",
      "      穿越小说\n",
      "     </a>\n",
      "    </li>\n",
      "    <li>\n",
      "     <a href=\"/wangyouxiaoshuo/\">\n",
      "      网游小说\n",
      "     </a>\n",
      "    </li>\n",
      "    <li>\n",
      "     <a href=\"/kehuanxiaoshuo/\">\n",
      "      科幻小说\n",
      "     </a>\n",
      "    </li>\n",
      "    <li>\n",
      "     <a href=\"/qitaxiaoshuo/\">\n",
      "      其他小说\n",
      "     </a>\n",
      "    </li>\n",
      "    <li>\n",
      "     <a href=\"/paihangbang/\">\n",
      "      排行榜单\n",
      "     </a>\n",
      "    </li>\n",
      "    <li>\n",
      "     <a href=\"/wanben/\">\n",
      "      完本小说\n",
      "     </a>\n",
      "    </li>\n",
      "   </ul>\n",
      "  </div>\n",
      "  <script>\n",
      "   read1();\n",
      "  </script>\n",
      "  <div class=\"book reader\">\n",
      "   <div class=\"path\">\n",
      "    <div class=\"p\">\n",
      "     <a href=\"/\">\n",
      "      笔趣阁\n",
      "     </a>\n",
      "     &gt;\n",
      "     <a href=\"/44_44297/\">\n",
      "      我家二哈被附身了\n",
      "     </a>\n",
      "     &gt; 1、家有拆迁高手\n",
      "     <span class=\"oninfo\">\n",
      "      <script>\n",
      "       textselect();\n",
      "      </script>\n",
      "     </span>\n",
      "    </div>\n",
      "   </div>\n",
      "   <div class=\"content\">\n",
      "    <h1>\n",
      "     1、家有拆迁高手\n",
      "    </h1>\n",
      "    <div class=\"link\">\n",
      "     <span>\n",
      "      笔趣阁小说推荐阅读：\n",
      "      <a href=\"http://www.biqukan.com/1_1094/\" target=\"_blank\">\n",
      "       一念永恒\n",
      "      </a>\n",
      "      、\n",
      "      <a href=\"http://www.biqukan.com/0_178/\" target=\"_blank\">\n",
      "       圣墟\n",
      "      </a>\n",
      "      、\n",
      "      <a href=\"http://www.biqukan.com/1_1682/\" target=\"_blank\">\n",
      "       不朽凡人\n",
      "      </a>\n",
      "      、\n",
      "      <a href=\"http://www.biqukan.com/17_17957/\" target=\"_blank\">\n",
      "       天道图书馆\n",
      "      </a>\n",
      "      、\n",
      "      <a href=\"http://www.biqukan.com/17_17939/\" target=\"_blank\">\n",
      "       人皇纪\n",
      "      </a>\n",
      "      、\n",
      "      <a href=\"http://www.biqukan.com/0_157/\" target=\"_blank\">\n",
      "       巫神纪\n",
      "      </a>\n",
      "      、\n",
      "      <a href=\"http://www.biqukan.com/1_1452/\" target=\"_blank\">\n",
      "       武道宗师\n",
      "      </a>\n",
      "      、\n",
      "      <a href=\"http://www.biqukan.com/16_16521/\" target=\"_blank\">\n",
      "       绝世战魂\n",
      "      </a>\n",
      "      、\n",
      "      <a href=\"http://www.biqukan.com/18_18467/\" target=\"_blank\">\n",
      "       超凡传\n",
      "      </a>\n",
      "      、\n",
      "      <a href=\"http://www.biqukan.com/10_10567/\" target=\"_blank\">\n",
      "       盖世帝尊\n",
      "      </a>\n",
      "      、\n",
      "      <a href=\"http://www.biqukan.com/1_1421/\" target=\"_blank\">\n",
      "       纨绔邪皇\n",
      "      </a>\n",
      "      、\n",
      "      <a href=\"http://www.biqukan.com/0_996/\" target=\"_blank\">\n",
      "       侠行天下\n",
      "      </a>\n",
      "      、\n",
      "      <a href=\"http://www.biqukan.com/1_1021/\" target=\"_blank\">\n",
      "       恐怖广播\n",
      "      </a>\n",
      "     </span>\n",
      "    </div>\n",
      "    <script>\n",
      "     read2();\n",
      "    </script>\n",
      "    <div class=\"showtxt\" id=\"content\">\n",
      "     &amp;1t;/p&gt;\n",
      "     <br/>\n",
      "     <br/>\n",
      "     &amp;1t;/p&gt;\n",
      "     <br/>\n",
      "     <br/>\n",
      "     “爸，你怎么也不说一下妈？你看她买了多少东西！”顾白一屁股坐在车上，累成条狗样。&amp;1t;/p&gt;\n",
      "     <br/>\n",
      "     <br/>\n",
      "     &amp;1t;/p&gt;\n",
      "     <br/>\n",
      "     <br/>\n",
      "     顾爸乐呵呵地说：“你妈喜欢就买吧，不差那两个钱！”&amp;1t;/p&gt;\n",
      "     <br/>\n",
      "     <br/>\n",
      "     &amp;1t;/p&gt;\n",
      "     <br/>\n",
      "     <br/>\n",
      "     “你不差钱，我还费力呢！哎哟……，妈，轻点……”背后说自家老妈坏话，还恰好被抓个正着，顾白的耳朵遭殃了。&amp;1t;/p&gt;\n",
      "     <br/>\n",
      "     <br/>\n",
      "     &amp;1t;/p&gt;\n",
      "     <br/>\n",
      "     <br/>\n",
      "     “顾白，老娘真是白养你了，还不如我家老公好！”顾妈小鸟依人似的窝在顾爸怀里，两人眉目传情，这两个恩爱如初的家伙一点都不体谅还处于单身狗状态的顾白的感受。&amp;1t;/p&gt;\n",
      "     <br/>\n",
      "     <br/>\n",
      "     &amp;1t;/p&gt;\n",
      "     <br/>\n",
      "     <br/>\n",
      "     顾白摸着耳朵，将目光转移到车外，做到目不斜视，反正他已经习惯了，在自家父母面前，他永远是最亮的灯泡！&amp;1t;/p&gt;\n",
      "     <br/>\n",
      "     <br/>\n",
      "     &amp;1t;/p&gt;\n",
      "     <br/>\n",
      "     <br/>\n",
      "     到家后，顾白被顾妈使唤将全部东西搬到家，而她挽着顾爸的手，领头走在前面。&amp;1t;/p&gt;\n",
      "     <br/>\n",
      "     <br/>\n",
      "     &amp;1t;/p&gt;\n",
      "     <br/>\n",
      "     <br/>\n",
      "     “身为你们的儿子，你们竟然这么对待独一无二的后代，总有一天我会被你们气死的！”顾白双手提满东西，抱怨道。&amp;1t;/p&gt;\n",
      "     <br/>\n",
      "     <br/>\n",
      "     &amp;1t;/p&gt;\n",
      "     <br/>\n",
      "     <br/>\n",
      "     顾妈回头瞟他一眼，对顾爸说：“顾爸爸，要不我们生个二胎吧！”&amp;1t;/p&gt;\n",
      "     <br/>\n",
      "     <br/>\n",
      "     &amp;1t;/p&gt;\n",
      "     <br/>\n",
      "     <br/>\n",
      "     顾爸挽着自己亲爱的妻子到一旁商量二胎的事，但顾白知道他们两人也就说说，生二胎，他爸爸会答应吗？他肯定舍不得自己的老婆疼。&amp;1t;/p&gt;\n",
      "     <br/>\n",
      "     <br/>\n",
      "     &amp;1t;/p&gt;\n",
      "     <br/>\n",
      "     <br/>\n",
      "     顾白瘪瘪嘴，用脚顶顶门示意自家父母开个门。&amp;1t;/p&gt;\n",
      "     <br/>\n",
      "     <br/>\n",
      "     &amp;1t;/p&gt;\n",
      "     <br/>\n",
      "     <br/>\n",
      "     “嚷嚷什么！等会！”顾妈白他一眼。&amp;1t;/p&gt;\n",
      "     <br/>\n",
      "     <br/>\n",
      "     &amp;1t;/p&gt;\n",
      "     <br/>\n",
      "     <br/>\n",
      "     顾白只好将东西放下来，过去拿钥匙，结果打开门一看，妈啊！他们是不是走错门了？&amp;1t;/p&gt;\n",
      "     <br/>\n",
      "     <br/>\n",
      "     &amp;1t;/p&gt;\n",
      "     <br/>\n",
      "     <br/>\n",
      "     见顾白一副惊吓过头的模样，顾爸妈赶紧走过来，往里一看，顾妈吓得倒在顾爸怀里，顾爸也惊吓得目瞪口呆。&amp;1t;/p&gt;\n",
      "     <br/>\n",
      "     <br/>\n",
      "     &amp;1t;/p&gt;\n",
      "     <br/>\n",
      "     <br/>\n",
      "     这时，一头庞大的物体飞奔着朝他们跑过来，顾白没站稳，被趴倒在地上。&amp;1t;/p&gt;\n",
      "     <br/>\n",
      "     <br/>\n",
      "     &amp;1t;/p&gt;\n",
      "     <br/>\n",
      "     <br/>\n",
      "     “大熊，你又干了什么好事？”顾白一把揪起大熊的耳朵，恶狠狠地对着它凶。&amp;1t;/p&gt;\n",
      "     <br/>\n",
      "     <br/>\n",
      "     &amp;1t;/p&gt;\n",
      "     <br/>\n",
      "     <br/>\n",
      "     大熊是顾白家里养的一条巨型哈士奇，长得跟一头熊似的，站起来能有一个成年男子那么高，一身漂亮的长毛加上蠢萌蠢萌的外表，让它成为顾妈除了顾爸之外的心头爱，可谁能想到它还是一个拆家高手，他们出门前，明明已经将它所在笼子里了，为什么它还能把家拆成那样！&amp;1t;/p&gt;\n",
      "     <br/>\n",
      "     <br/>\n",
      "     &amp;1t;/p&gt;\n",
      "     <br/>\n",
      "     <br/>\n",
      "     顾爸扶着顾妈，小心翼翼地躲开满地的垃圾跟碎片，刚想到沙坐坐，却现沙已经遭受敌手，被毁得只剩下棉花，木椅也被咬地支离破碎，这下他们连坐的地方都没有了。&amp;1t;/p&gt;\n",
      "     <br/>\n",
      "     <br/>\n",
      "     &amp;1t;/p&gt;\n",
      "     <br/>\n",
      "     <br/>\n",
      "     大熊还不知道自己做错了什么，躲过顾白的蹂躏后，它跑到顾妈那里要安慰，顾妈被气得还没能喘过起来，见顾白还在她眼前晃，美少妇一下子变成凶悍母夜叉，一把拽起大熊两只耳朵，怒吼道：“大熊，你今晚不许吃晚饭！”说完，顾妈连拖带拽，将大熊关在了院子。&amp;1t;/p&gt;\n",
      "     <br/>\n",
      "     <br/>\n",
      "     &amp;1t;/p&gt;\n",
      "     <br/>\n",
      "     <br/>\n",
      "     顾爸安慰顾妈去了，顾白只好认命收拾。&amp;1t;/p&gt;\n",
      "     <br/>\n",
      "     <br/>\n",
      "     &amp;1t;/p&gt;\n",
      "     <br/>\n",
      "     <br/>\n",
      "     两个小时过去，顾白收拾完大厅，幸好房间是不锈钢的，要不然大熊肯定连房间都拆掉。&amp;1t;/p&gt;\n",
      "     <br/>\n",
      "     <br/>\n",
      "     &amp;1t;/p&gt;\n",
      "     <br/>\n",
      "     <br/>\n",
      "     “爸，妈，出来吧，我已经收拾好了！”那两人呆在房间那么久，为的不就是等他收拾完吗？果然顾爸顾妈一听到这话，就齐双双地出来了。&amp;1t;/p&gt;\n",
      "     <br/>\n",
      "     <br/>\n",
      "     &amp;1t;/p&gt;\n",
      "     <br/>\n",
      "     <br/>\n",
      "     “我家儿子果然能干，妈妈现在就去做饭！”顾妈看到干干净净的大厅，脸上笑得跟朵花似的。&amp;1t;/p&gt;\n",
      "     <br/>\n",
      "     <br/>\n",
      "     &amp;1t;/p&gt;\n",
      "     <br/>\n",
      "     <br/>\n",
      "     顾爸也跟着去厨房打下手，看着这对不着调的父母，顾白无奈摇摇头，回房间打1o1去了。&amp;1t;/p&gt;\n",
      "     <br/>\n",
      "     <br/>\n",
      "     &amp;1t;/p&gt;\n",
      "     <br/>\n",
      "     <br/>\n",
      "     等晚饭做好，一家三口坐在餐桌前，顾白还往外面看了看，只见大熊一狗可怜兮兮地看着他们在吃饭，于是顾白问：“妈，要不这次就算了吧……”&amp;1t;/p&gt;\n",
      "     <br/>\n",
      "     <br/>\n",
      "     &amp;1t;/p&gt;\n",
      "     <br/>\n",
      "     <br/>\n",
      "     “别想，大熊就是被宠坏了，这次一定要给它教训！”顾妈边帮顾爸夹菜，边说。&amp;1t;/p&gt;\n",
      "     <br/>\n",
      "     <br/>\n",
      "     &amp;1t;/p&gt;\n",
      "     <br/>\n",
      "     <br/>\n",
      "     顾白只好对大熊耸耸肩，大熊用一副鄙视的眼神俯视他，顾白气得牙痒痒，最后不管它，自顾往肚子填饭菜。&amp;1t;/p&gt;\n",
      "     <br/>\n",
      "     <br/>\n",
      "     &amp;1t;/p&gt;\n",
      "     <br/>\n",
      "     <br/>\n",
      "     “妈，你的手艺又提高了，明天多买点牛肉，我想吃西兰花炒牛肉！”顾白放下筷子，对顾妈说。&amp;1t;/p&gt;\n",
      "     <br/>\n",
      "     <br/>\n",
      "     &amp;1t;/p&gt;\n",
      "     <br/>\n",
      "     <br/>\n",
      "     顾妈点点头，说：“再喝碗汤，记得上楼做试卷。”&amp;1t;/p&gt;\n",
      "     <br/>\n",
      "     <br/>\n",
      "     &amp;1t;/p&gt;\n",
      "     <br/>\n",
      "     <br/>\n",
      "     顾白怕顾妈又唠叨起来，连忙答应着，然后飞快地跑上楼，谁能知道高二狗的悲凉。&amp;1t;/p&gt;\n",
      "     <br/>\n",
      "     <br/>\n",
      "     &amp;1t;/p&gt;\n",
      "     <br/>\n",
      "     <br/>\n",
      "     “顾白，刚吃完，不要跑，慢慢走……”身后是顾妈的喊声，但顾白已经听不到了。&amp;1t;/p&gt;\n",
      "     <br/>\n",
      "     <br/>\n",
      "     &amp;1t;/p&gt;\n",
      "     <br/>\n",
      "     <br/>\n",
      "     回到房间，锁上门，顾白刚准备来场Lo1，门就敲响了，外面传来顾爸特意压低的声音，“小白，你最好不要玩游戏，你老妈也玩1o1，小心她跟你是一个队的！”&amp;1t;/p&gt;\n",
      "     <br/>\n",
      "     <br/>\n",
      "     &amp;1t;/p&gt;\n",
      "     <br/>\n",
      "     <br/>\n",
      "     顾白吓得赶紧放下鼠标，拿出试卷。&amp;1t;/p&gt;\n",
      "     <br/>\n",
      "     <br/>\n",
      "     &amp;1t;/p&gt;\n",
      "     <br/>\n",
      "     <br/>\n",
      "     而房间外面，顾爸顾妈两人对视一笑，踮起脚尖回房去了。&amp;1t;/p&gt;\n",
      "     <br/>\n",
      "     <br/>\n",
      "     &amp;1t;/p&gt;\n",
      "     <br/>\n",
      "     <br/>\n",
      "     十点一过，顾白将做完的试卷收拾放到一旁，然后下楼倒水喝，这时，他才想起大熊还没有吃晚饭，而且还孤零零一狗被关在外面，同情心起，顾白偷偷摸摸拿了一盒狗粮出去。&amp;1t;/p&gt;\n",
      "     <br/>\n",
      "     <br/>\n",
      "     &amp;1t;/p&gt;\n",
      "     <br/>\n",
      "     <br/>\n",
      "     “大熊，我来看你了。”角落里蹲着一条毛茸茸的巨。。物，看起来怪可怜的。&amp;1t;/p&gt;\n",
      "     <br/>\n",
      "     <br/>\n",
      "     &amp;1t;/p&gt;\n",
      "     <br/>\n",
      "     <br/>\n",
      "     大熊回头看他一眼，又将脑袋转了回去，似乎在责怪顾白刚才没有帮它说话。&amp;1t;/p&gt;\n",
      "     <br/>\n",
      "     <br/>\n",
      "     &amp;1t;/p&gt;\n",
      "     <br/>\n",
      "     <br/>\n",
      "     顾白将狗粮推到大熊嘴边，说：“吃吧，要不然你今晚得饿一晚。”&amp;1t;/p&gt;\n",
      "     <br/>\n",
      "     <br/>\n",
      "     &amp;1t;/p&gt;\n",
      "     <br/>\n",
      "     <br/>\n",
      "     大熊很有骨气地扭着脑袋不吃，顾白抽了抽嘴角，捏住它的耳朵，说：“你拆家还有理了？”&amp;1t;/p&gt;\n",
      "     <br/>\n",
      "     <br/>\n",
      "     &amp;1t;/p&gt;\n",
      "     <br/>\n",
      "     <br/>\n",
      "     大熊嗷嗷两声，顾白听不懂，但看它模样着实可怜，就说：“行了，知道你呆在这里无聊，等会我带你上天台用天文望远镜看北极星，听说今天还有可能看到哈雷彗星呢！”&amp;1t;/p&gt;\n",
      "     <br/>\n",
      "     <br/>\n",
      "     &amp;1t;/p&gt;\n",
      "     <br/>\n",
      "     <br/>\n",
      "     大熊听不懂，但看到顾白示意它一起走，大熊立马原地活崩乱跳的，跟着顾白上去天台。&amp;1t;/p&gt;\n",
      "     <br/>\n",
      "     <br/>\n",
      "     &amp;1t;/p&gt;\n",
      "     <br/>\n",
      "     <br/>\n",
      "     顾爸是天文爱好者，所以他家备有一台级高科技的天台望远镜，顾白调了调光圈，恰好看到北极星，惊呼道：“大熊，快过来。”&amp;1t;/p&gt;\n",
      "     <br/>\n",
      "     <br/>\n",
      "     &amp;1t;/p&gt;\n",
      "     <br/>\n",
      "     <br/>\n",
      "     大熊嗷呜一声跑过来，挤开顾白，一狗在望远镜那里使劲看。&amp;1t;/p&gt;\n",
      "     <br/>\n",
      "     <br/>\n",
      "     &amp;1t;/p&gt;\n",
      "     <br/>\n",
      "     <br/>\n",
      "     顾白嫌弃大熊不懂装懂，就推开它，说：“得了，啥也看不懂挤过来干嘛？”他不过让大熊上来散散心而已，它还真当自己能看懂星空了！&amp;1t;/p&gt;\n",
      "     <br/>\n",
      "     <br/>\n",
      "     &amp;1t;/p&gt;\n",
      "     <br/>\n",
      "     <br/>\n",
      "     大熊冲着他嗷嗷叫起来，顾白忍不住捏住它的嘴，说：“闭嘴，把老妈叫来了，你我都吃不了兜着走！”&amp;1t;/p&gt;\n",
      "     <br/>\n",
      "     <br/>\n",
      "     &amp;1t;/p&gt;\n",
      "     <br/>\n",
      "     <br/>\n",
      "     大熊这才乖乖蹲下吃它的狗粮，而顾白盯着天文望远镜寻找他在新闻看到的目标。&amp;1t;/p&gt;\n",
      "     <br/>\n",
      "     <br/>\n",
      "     &amp;1t;/p&gt;\n",
      "     <br/>\n",
      "     <br/>\n",
      "     奇了怪了，新闻不是说哈雷彗星在月球旁边吗？怎么找不到？顾白嘀嘀咕咕地说着。&amp;1t;/p&gt;\n",
      "     <br/>\n",
      "     <br/>\n",
      "     &amp;1t;/p&gt;\n",
      "     <br/>\n",
      "     <br/>\n",
      "     这时，天边一颗流星闪过，大熊刚抬起头，那颗流星的末尾就坠入了它的脑袋里，而一心在找哈雷彗星的顾白丝毫没有注意到。&amp;1t;/p&gt;\n",
      "     <br/>\n",
      "     <br/>\n",
      "     &amp;1t;/p&gt;\n",
      "     <br/>\n",
      "     <br/>\n",
      "     大熊原本呆蠢的眼神瞬间亮了，就好像潜入了某种神识一般，打通了它的灵慧。&amp;1t;/p&gt;\n",
      "     <br/>\n",
      "     <br/>\n",
      "     &amp;1t;/p&gt;\n",
      "     <br/>\n",
      "     <br/>\n",
      "     &amp;1t;/p&gt;\n",
      "     <br/>\n",
      "     <br/>\n",
      "     http://www.biqukan.com/44_44297/16731314.html\n",
      "     <br/>\n",
      "     <br/>\n",
      "     请记住本书首发域名：www.biqukan.com。笔趣阁手机版阅读网址：m.biqukan.com\n",
      "    </div>\n",
      "    <script>\n",
      "     read3();\n",
      "    </script>\n",
      "    <div class=\"page_chapter\">\n",
      "     <ul>\n",
      "      <li>\n",
      "       <a href=\"/44_44297/\">\n",
      "        上一章\n",
      "       </a>\n",
      "      </li>\n",
      "      <li>\n",
      "       <a href=\"/44_44297/\">\n",
      "        返回目录\n",
      "       </a>\n",
      "      </li>\n",
      "      <li>\n",
      "       <a href=\"/44_44297/16731315.html\">\n",
      "        下一章\n",
      "       </a>\n",
      "      </li>\n",
      "      <li>\n",
      "       <a href=\"javascript:addBookMark('44297','16731314','我家二哈被附身了','1、家有拆迁高手');\" rel=\"nofollow\">\n",
      "        加入书签\n",
      "       </a>\n",
      "      </li>\n",
      "     </ul>\n",
      "    </div>\n",
      "    <script>\n",
      "     read4();\n",
      "    </script>\n",
      "   </div>\n",
      "  </div>\n",
      "  <script>\n",
      "   lastread.set('44297','16731314','我家二哈被附身了','1、家有拆迁高手','南湖秀萝','玄幻小说');\n",
      "  </script>\n",
      "  <div class=\"footer\">\n",
      "   <div class=\"link\">\n",
      "    <span>\n",
      "     我家二哈被附身了相关推荐：\n",
      "     <a href=\"/0_1/\">\n",
      "      游戏主神养成指南\n",
      "     </a>\n",
      "     、\n",
      "     <a href=\"/0_2/\">\n",
      "      五行天\n",
      "     </a>\n",
      "     、\n",
      "     <a href=\"/0_3/\">\n",
      "      天庭仓管员\n",
      "     </a>\n",
      "     、\n",
      "     <a href=\"/0_4/\">\n",
      "      雪鹰领主\n",
      "     </a>\n",
      "     、\n",
      "     <a href=\"/0_5/\">\n",
      "      执剑写春秋\n",
      "     </a>\n",
      "     、\n",
      "     <a href=\"/0_6/\">\n",
      "      儒道之天下霸主\n",
      "     </a>\n",
      "     、\n",
      "     <a href=\"/0_7/\">\n",
      "      极品嚣张狂少\n",
      "     </a>\n",
      "     、\n",
      "     <a href=\"/0_8/\">\n",
      "      文贼\n",
      "     </a>\n",
      "     、\n",
      "     <a href=\"/0_9/\">\n",
      "      劝鬼师\n",
      "     </a>\n",
      "     、\n",
      "     <a href=\"/0_10/\">\n",
      "      极品富二代\n",
      "     </a>\n",
      "    </span>\n",
      "   </div>\n",
      "   <hr/>\n",
      "   1、家有拆迁高手_我家二哈被附身了最新章节_玄幻小说\n",
      "   <br/>\n",
      "   <script>\n",
      "    footer();tj();readtc();\n",
      "   </script>\n",
      "  </div>\n",
      " </body>\n",
      "</html>\n"
     ]
    }
   ],
   "source": [
    "import requests\n",
    "from bs4 import BeautifulSoup\n",
    "\n",
    "\n",
    "url = 'http://www.biqukan.com/44_44297/16731314.html'\n",
    "req = requests.get(url)\n",
    "soup = BeautifulSoup(req.text, 'lxml')\n",
    "print(soup.prettify())"
   ]
  },
  {
   "cell_type": "code",
   "execution_count": 2,
   "metadata": {},
   "outputs": [
    {
     "name": "stdout",
     "output_type": "stream",
     "text": [
      "<title>1、家有拆迁高手_我家二哈被附身了_玄幻小说_笔趣阁</title>\n"
     ]
    }
   ],
   "source": [
    "print(soup.title)"
   ]
  },
  {
   "cell_type": "code",
   "execution_count": 3,
   "metadata": {},
   "outputs": [
    {
     "name": "stdout",
     "output_type": "stream",
     "text": [
      "<head>\n",
      "<meta content=\"text/html; charset=utf-8\" http-equiv=\"Content-Type\"/>\n",
      "<title>1、家有拆迁高手_我家二哈被附身了_玄幻小说_笔趣阁</title>\n",
      "<meta content=\"我家二哈被附身了, 1、家有拆迁高手\" name=\"keywords\"/>\n",
      "<meta content=\"笔趣阁提供了南湖秀萝创作的玄幻小说《我家二哈被附身了》干净清爽无错字的文字章节：1、家有拆迁高手在线阅读。\" name=\"description\"/>\n",
      "<meta content=\"no-transform\" http-equiv=\"Cache-Control\"/>\n",
      "<meta content=\"no-siteapp\" http-equiv=\"Cache-Control\"/>\n",
      "<meta content=\"format=html5; url=http://m.biqukan.com/44/44297/16731314.html\" http-equiv=\"mobile-agent\"/>\n",
      "<meta content=\"format=xhtml; url=http://m.biqukan.com/44/44297/16731314.html\" http-equiv=\"mobile-agent\"/>\n",
      "<link href=\"/css/style.css\" rel=\"stylesheet\" type=\"text/css\"/>\n",
      "<script src=\"http://apps.bdimg.com/libs/jquery/1.8.3/jquery.min.js\"></script>\n",
      "<script src=\"/xxgg/common.js\"></script>\n",
      "<script src=\"/xxgg/read.js\"></script>\n",
      "<script type=\"text/javascript\">\r\n",
      "var preview_page = \"/44_44297/\";\r\n",
      "var next_page = \"/44_44297/16731315.html\";\r\n",
      "var index_page = \"/44_44297/\";\r\n",
      "function jumpPage() {\r\n",
      "  if (event.keyCode==37) location=preview_page;\r\n",
      "  if (event.keyCode==39) location=next_page;\r\n",
      "  if (event.keyCode==13) location=index_page;\r\n",
      "}\r\n",
      "document.onkeydown=jumpPage; \r\n",
      "</script>\n",
      "</head>\n"
     ]
    }
   ],
   "source": [
    "print(soup.head)"
   ]
  },
  {
   "cell_type": "code",
   "execution_count": 4,
   "metadata": {},
   "outputs": [
    {
     "name": "stdout",
     "output_type": "stream",
     "text": [
      "<a href=\"/\" title=\"笔趣阁\">笔趣阁<em>www.biqukan.com</em></a>\n"
     ]
    }
   ],
   "source": [
    "print(soup.a)"
   ]
  },
  {
   "cell_type": "code",
   "execution_count": 5,
   "metadata": {},
   "outputs": [
    {
     "name": "stdout",
     "output_type": "stream",
     "text": [
      "None\n"
     ]
    }
   ],
   "source": [
    "print(soup.p) # soup加标签名获取标签的信息"
   ]
  },
  {
   "cell_type": "code",
   "execution_count": 6,
   "metadata": {},
   "outputs": [
    {
     "name": "stdout",
     "output_type": "stream",
     "text": [
      "[document]\n"
     ]
    }
   ],
   "source": [
    "print(soup.name)"
   ]
  },
  {
   "cell_type": "code",
   "execution_count": 7,
   "metadata": {},
   "outputs": [
    {
     "name": "stdout",
     "output_type": "stream",
     "text": [
      "title\n"
     ]
    }
   ],
   "source": [
    "print(soup.title.name)"
   ]
  },
  {
   "cell_type": "code",
   "execution_count": 8,
   "metadata": {},
   "outputs": [
    {
     "name": "stdout",
     "output_type": "stream",
     "text": [
      "{'href': '/', 'title': '笔趣阁'}\n"
     ]
    }
   ],
   "source": [
    "print(soup.a.attrs)"
   ]
  },
  {
   "cell_type": "code",
   "execution_count": 10,
   "metadata": {},
   "outputs": [
    {
     "name": "stdout",
     "output_type": "stream",
     "text": [
      "笔趣阁\n"
     ]
    }
   ],
   "source": [
    "print(soup.a['title'])# 标签的类"
   ]
  },
  {
   "cell_type": "code",
   "execution_count": 11,
   "metadata": {},
   "outputs": [
    {
     "name": "stdout",
     "output_type": "stream",
     "text": [
      "笔趣阁\n"
     ]
    }
   ],
   "source": [
    "print(soup.a.get('title')) # 等价于上个"
   ]
  },
  {
   "cell_type": "code",
   "execution_count": 12,
   "metadata": {},
   "outputs": [
    {
     "name": "stdout",
     "output_type": "stream",
     "text": [
      "1、家有拆迁高手_我家二哈被附身了_玄幻小说_笔趣阁\n"
     ]
    }
   ],
   "source": [
    "print(soup.title.string)# 获取标签内部的文字"
   ]
  },
  {
   "cell_type": "code",
   "execution_count": 13,
   "metadata": {},
   "outputs": [
    {
     "name": "stdout",
     "output_type": "stream",
     "text": [
      "首页\n"
     ]
    }
   ],
   "source": [
    "print(soup.li.string)"
   ]
  },
  {
   "cell_type": "code",
   "execution_count": 15,
   "metadata": {
    "collapsed": true
   },
   "outputs": [],
   "source": [
    "from bs4 import element\n",
    "\n",
    "if type(soup.li.string) == element.Comment:\n",
    "     print(soup.li.string)# 判断了它的类型，是否为 Comment 类型，然后再进行其他操作"
   ]
  },
  {
   "cell_type": "code",
   "execution_count": 17,
   "metadata": {},
   "outputs": [
    {
     "name": "stdout",
     "output_type": "stream",
     "text": [
      "['笔趣阁', <em>www.biqukan.com</em>]\n"
     ]
    }
   ],
   "source": [
    "print(soup.a.contents)# a标签的信息"
   ]
  },
  {
   "cell_type": "code",
   "execution_count": 18,
   "metadata": {},
   "outputs": [
    {
     "name": "stdout",
     "output_type": "stream",
     "text": [
      "笔趣阁\n",
      "<em>www.biqukan.com</em>\n"
     ]
    }
   ],
   "source": [
    "for child in soup.a.children:\n",
    "     print(child)"
   ]
  },
  {
   "cell_type": "code",
   "execution_count": 54,
   "metadata": {},
   "outputs": [
    {
     "name": "stdout",
     "output_type": "stream",
     "text": [
      "[<a href=\"/\" title=\"笔趣阁\">笔趣阁<em>www.biqukan.com</em></a>, <a href=\"http://www.biqukan.com/\">首页</a>, <a href=\"/modules/article/bookcase.php\">我的书架</a>, <a href=\"/xuanhuanxiaoshuo/\">玄幻小说</a>, <a href=\"/xiuzhenxiaoshuo/\">修真小说</a>, <a href=\"/dushixiaoshuo/\">都市小说</a>, <a href=\"/chuanyuexiaoshuo/\">穿越小说</a>, <a href=\"/wangyouxiaoshuo/\">网游小说</a>, <a href=\"/kehuanxiaoshuo/\">科幻小说</a>, <a href=\"/qitaxiaoshuo/\">其他小说</a>]\n"
     ]
    }
   ],
   "source": [
    "print(soup.find_all('a', limit=10))# 搜索a节点，限制显示10条"
   ]
  },
  {
   "cell_type": "code",
   "execution_count": 28,
   "metadata": {},
   "outputs": [
    {
     "name": "stdout",
     "output_type": "stream",
     "text": [
      "div\n",
      "div\n",
      "div\n",
      "div\n",
      "div\n",
      "div\n",
      "div\n",
      "div\n",
      "div\n",
      "div\n",
      "div\n",
      "div\n",
      "div\n"
     ]
    }
   ],
   "source": [
    "import re\n",
    "for tag in soup.find_all(re.compile(\"^d\")):\n",
    "     print(tag.name)"
   ]
  },
  {
   "cell_type": "code",
   "execution_count": 29,
   "metadata": {},
   "outputs": [
    {
     "name": "stdout",
     "output_type": "stream",
     "text": [
      "[<title>1、家有拆迁高手_我家二哈被附身了_玄幻小说_笔趣阁</title>, <script src=\"http://apps.bdimg.com/libs/jquery/1.8.3/jquery.min.js\"></script>, <script src=\"/xxgg/common.js\"></script>, <script src=\"/xxgg/read.js\"></script>, <script type=\"text/javascript\">\r\n",
      "var preview_page = \"/44_44297/\";\r\n",
      "var next_page = \"/44_44297/16731315.html\";\r\n",
      "var index_page = \"/44_44297/\";\r\n",
      "function jumpPage() {\r\n",
      "  if (event.keyCode==37) location=preview_page;\r\n",
      "  if (event.keyCode==39) location=next_page;\r\n",
      "  if (event.keyCode==13) location=index_page;\r\n",
      "}\r\n",
      "document.onkeydown=jumpPage; \r\n",
      "</script>, <script>login();</script>, <script>search();</script>, <script>read1();</script>, <script>textselect();</script>, <script>read2();</script>, <script>read3();</script>, <script>read4();</script>, <script>lastread.set('44297','16731314','我家二哈被附身了','1、家有拆迁高手','南湖秀萝','玄幻小说');</script>, <script>footer();tj();readtc();</script>]\n"
     ]
    }
   ],
   "source": [
    "print(soup.find_all(['title', 'script']))# 查找[]内标签的信息"
   ]
  },
  {
   "cell_type": "code",
   "execution_count": 55,
   "metadata": {},
   "outputs": [
    {
     "name": "stdout",
     "output_type": "stream",
     "text": [
      "html\n",
      "head\n",
      "meta\n",
      "title\n",
      "meta\n",
      "meta\n",
      "meta\n",
      "meta\n",
      "meta\n",
      "meta\n"
     ]
    }
   ],
   "source": [
    "for tag in soup.find_all(True, limit=10):# 网页中所有标签\n",
    "     print(tag.name)"
   ]
  },
  {
   "cell_type": "code",
   "execution_count": 36,
   "metadata": {},
   "outputs": [
    {
     "name": "stdout",
     "output_type": "stream",
     "text": [
      "[<div class=\"path\"><div class=\"p\"><a href=\"/\">笔趣阁</a> &gt; <a href=\"/44_44297/\">我家二哈被附身了</a> &gt; 1、家有拆迁高手 <span class=\"oninfo\"><script>textselect();</script></span>\n",
      "</div></div>, <div class=\"link\"><span>笔趣阁小说推荐阅读：<a href=\"http://www.biqukan.com/1_1094/\" target=\"_blank\">一念永恒</a>、<a href=\"http://www.biqukan.com/0_178/\" target=\"_blank\">圣墟</a>、<a href=\"http://www.biqukan.com/1_1682/\" target=\"_blank\">不朽凡人</a>、<a href=\"http://www.biqukan.com/17_17957/\" target=\"_blank\">天道图书馆</a>、<a href=\"http://www.biqukan.com/17_17939/\" target=\"_blank\">人皇纪</a>、<a href=\"http://www.biqukan.com/0_157/\" target=\"_blank\">巫神纪</a>、<a href=\"http://www.biqukan.com/1_1452/\" target=\"_blank\">武道宗师</a>、<a href=\"http://www.biqukan.com/16_16521/\" target=\"_blank\">绝世战魂</a>、<a href=\"http://www.biqukan.com/18_18467/\" target=\"_blank\">超凡传</a>、\n",
      "<a href=\"http://www.biqukan.com/10_10567/\" target=\"_blank\">盖世帝尊</a>、<a href=\"http://www.biqukan.com/1_1421/\" target=\"_blank\">纨绔邪皇</a>、<a href=\"http://www.biqukan.com/0_996/\" target=\"_blank\">侠行天下</a>、<a href=\"http://www.biqukan.com/1_1021/\" target=\"_blank\">恐怖广播</a></span></div>, <div class=\"link\"><span>我家二哈被附身了相关推荐：<a href=\"/0_1/\">游戏主神养成指南</a>、<a href=\"/0_2/\">五行天</a>、<a href=\"/0_3/\">天庭仓管员</a>、<a href=\"/0_4/\">雪鹰领主</a>、<a href=\"/0_5/\">执剑写春秋</a>、<a href=\"/0_6/\">儒道之天下霸主</a>、<a href=\"/0_7/\">极品嚣张狂少</a>、<a href=\"/0_8/\">文贼</a>、<a href=\"/0_9/\">劝鬼师</a>、<a href=\"/0_10/\">极品富二代</a></span></div>]\n"
     ]
    }
   ],
   "source": [
    "print(soup.find_all(attrs={\"class\":{\"path\", \"link\"}}))#  传入属性查找"
   ]
  },
  {
   "cell_type": "code",
   "execution_count": 46,
   "metadata": {
    "scrolled": true
   },
   "outputs": [
    {
     "name": "stdout",
     "output_type": "stream",
     "text": [
      "[<head>\n",
      "<meta content=\"text/html; charset=utf-8\" http-equiv=\"Content-Type\"/>\n",
      "<title>1、家有拆迁高手_我家二哈被附身了_玄幻小说_笔趣阁</title>\n",
      "<meta content=\"我家二哈被附身了, 1、家有拆迁高手\" name=\"keywords\"/>\n",
      "<meta content=\"笔趣阁提供了南湖秀萝创作的玄幻小说《我家二哈被附身了》干净清爽无错字的文字章节：1、家有拆迁高手在线阅读。\" name=\"description\"/>\n",
      "<meta content=\"no-transform\" http-equiv=\"Cache-Control\"/>\n",
      "<meta content=\"no-siteapp\" http-equiv=\"Cache-Control\"/>\n",
      "<meta content=\"format=html5; url=http://m.biqukan.com/44/44297/16731314.html\" http-equiv=\"mobile-agent\"/>\n",
      "<meta content=\"format=xhtml; url=http://m.biqukan.com/44/44297/16731314.html\" http-equiv=\"mobile-agent\"/>\n",
      "<link href=\"/css/style.css\" rel=\"stylesheet\" type=\"text/css\"/>\n",
      "<script src=\"http://apps.bdimg.com/libs/jquery/1.8.3/jquery.min.js\"></script>\n",
      "<script src=\"/xxgg/common.js\"></script>\n",
      "<script src=\"/xxgg/read.js\"></script>\n",
      "<script type=\"text/javascript\">\r\n",
      "var preview_page = \"/44_44297/\";\r\n",
      "var next_page = \"/44_44297/16731315.html\";\r\n",
      "var index_page = \"/44_44297/\";\r\n",
      "function jumpPage() {\r\n",
      "  if (event.keyCode==37) location=preview_page;\r\n",
      "  if (event.keyCode==39) location=next_page;\r\n",
      "  if (event.keyCode==13) location=index_page;\r\n",
      "}\r\n",
      "document.onkeydown=jumpPage; \r\n",
      "</script>\n",
      "</head>]\n"
     ]
    }
   ],
   "source": [
    "print(soup.find_all('head', recursive=True))# head的子节点"
   ]
  },
  {
   "cell_type": "code",
   "execution_count": 51,
   "metadata": {},
   "outputs": [
    {
     "name": "stdout",
     "output_type": "stream",
     "text": [
      "['笔趣阁', '笔趣阁']\n"
     ]
    }
   ],
   "source": [
    "print(soup.find_all(text='笔趣阁'))# 与 name 参数的可选值一样, text 参数接受字符串 , 正则表达式 , 列表, True。"
   ]
  },
  {
   "cell_type": "code",
   "execution_count": null,
   "metadata": {
    "collapsed": true
   },
   "outputs": [],
   "source": []
  }
 ],
 "metadata": {
  "kernelspec": {
   "display_name": "Python 3",
   "language": "python",
   "name": "python3"
  },
  "language_info": {
   "codemirror_mode": {
    "name": "ipython",
    "version": 3
   },
   "file_extension": ".py",
   "mimetype": "text/x-python",
   "name": "python",
   "nbconvert_exporter": "python",
   "pygments_lexer": "ipython3",
   "version": "3.6.4"
  }
 },
 "nbformat": 4,
 "nbformat_minor": 2
}
