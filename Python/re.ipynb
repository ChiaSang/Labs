{
 "cells": [
  {
   "cell_type": "code",
   "execution_count": 24,
   "metadata": {
    "collapsed": true
   },
   "outputs": [],
   "source": [
    "import re"
   ]
  },
  {
   "cell_type": "code",
   "execution_count": 25,
   "metadata": {
    "collapsed": true
   },
   "outputs": [],
   "source": [
    "retest = \"\"\"\n",
    "\"Open Source\" is a good mechanism to develop programs.\n",
    "apple is my favorite food.\n",
    "Football game is not use feet only.\n",
    "this dress doesn't fit me.\n",
    "However, this dress is about $ 3183 dollars.\n",
    "GNU is free air not free beer.\n",
    "Her hair is very beauty.\n",
    "I can't finish the test.\n",
    "Oh! The soup taste good.\n",
    "motorcycle is cheap than car.\n",
    "This window is clear.\n",
    "the symbol '*' is represented as start.\n",
    "Oh!\tMy god!\n",
    "The gd software is a library for drafting programs.\n",
    "You are the best is mean you are the no. 1.\n",
    "The world <Happy> is the same with \"glad\".\n",
    "I like dog.\n",
    "google is the best tools for search keyword.\n",
    "goooooogle yes!\n",
    "go! go! Let's go.\n",
    "# I am VBird\n",
    "\"\"\""
   ]
  },
  {
   "cell_type": "code",
   "execution_count": 26,
   "metadata": {
    "collapsed": true
   },
   "outputs": [],
   "source": [
    "pattern = 'Open Source'"
   ]
  },
  {
   "cell_type": "code",
   "execution_count": 27,
   "metadata": {},
   "outputs": [
    {
     "name": "stdout",
     "output_type": "stream",
     "text": [
      "<_sre.SRE_Match object; span=(2, 13), match='Open Source'>\n"
     ]
    }
   ],
   "source": [
    "print(re.search(pattern, retest)) # 查找这个字符串是不是在要查找的对象里"
   ]
  },
  {
   "cell_type": "code",
   "execution_count": 34,
   "metadata": {},
   "outputs": [
    {
     "data": {
      "text/plain": [
       "<_sre.SRE_Match object; span=(2, 3), match='O'>"
      ]
     },
     "execution_count": 34,
     "metadata": {},
     "output_type": "execute_result"
    }
   ],
   "source": [
    "re.search(r'[0-9A-Z]', retest) # 匹配0-9数字和大写字母"
   ]
  },
  {
   "cell_type": "code",
   "execution_count": 36,
   "metadata": {},
   "outputs": [
    {
     "data": {
      "text/plain": [
       "<_sre.SRE_Match object; span=(0, 1), match='\\n'>"
      ]
     },
     "execution_count": 36,
     "metadata": {},
     "output_type": "execute_result"
    }
   ],
   "source": [
    "re.search(r'\\d', retest) # 匹配数字"
   ]
  },
  {
   "cell_type": "code",
   "execution_count": 37,
   "metadata": {},
   "outputs": [
    {
     "data": {
      "text/plain": [
       "<_sre.SRE_Match object; span=(2, 3), match='O'>"
      ]
     },
     "execution_count": 37,
     "metadata": {},
     "output_type": "execute_result"
    }
   ],
   "source": [
    "re.search(r'\\w', retest) #数字字母大小写和_ \\W则匹配除了这些之外的"
   ]
  },
  {
   "cell_type": "code",
   "execution_count": 38,
   "metadata": {},
   "outputs": [
    {
     "data": {
      "text/plain": [
       "<_sre.SRE_Match object; span=(2, 2), match=''>"
      ]
     },
     "execution_count": 38,
     "metadata": {},
     "output_type": "execute_result"
    }
   ],
   "source": [
    "re.search(r'\\b', retest) # 匹配空格  \\B所有空格"
   ]
  },
  {
   "cell_type": "code",
   "execution_count": 39,
   "metadata": {},
   "outputs": [
    {
     "data": {
      "text/plain": [
       "<_sre.SRE_Match object; span=(1, 2), match='\"'>"
      ]
     },
     "execution_count": 39,
     "metadata": {},
     "output_type": "execute_result"
    }
   ],
   "source": [
    "re.search(r'.', retest) # 除了换行的任何字符"
   ]
  },
  {
   "cell_type": "code",
   "execution_count": 40,
   "metadata": {},
   "outputs": [
    {
     "data": {
      "text/plain": [
       "<_sre.SRE_Match object; span=(1, 2), match='\"'>"
      ]
     },
     "execution_count": 40,
     "metadata": {},
     "output_type": "execute_result"
    }
   ],
   "source": [
    "re.search(r'^a', retest) # 匹配开头"
   ]
  },
  {
   "cell_type": "code",
   "execution_count": 41,
   "metadata": {},
   "outputs": [
    {
     "data": {
      "text/plain": [
       "<_sre.SRE_Match object; span=(1, 2), match='\"'>"
      ]
     },
     "execution_count": 41,
     "metadata": {},
     "output_type": "execute_result"
    }
   ],
   "source": [
    "re.search(r'a$', retest)# 匹配结尾"
   ]
  },
  {
   "cell_type": "code",
   "execution_count": 42,
   "metadata": {
    "collapsed": true
   },
   "outputs": [],
   "source": [
    "re.search(r'a？', retest) # 是否有都匹配"
   ]
  },
  {
   "cell_type": "code",
   "execution_count": 47,
   "metadata": {},
   "outputs": [
    {
     "data": {
      "text/plain": [
       "<_sre.SRE_Match object; span=(0, 0), match=''>"
      ]
     },
     "execution_count": 47,
     "metadata": {},
     "output_type": "execute_result"
    }
   ],
   "source": [
    "re.search(r'h*', retest) # 0或者多次"
   ]
  },
  {
   "cell_type": "code",
   "execution_count": 48,
   "metadata": {},
   "outputs": [
    {
     "data": {
      "text/plain": [
       "<_sre.SRE_Match object; span=(28, 29), match='h'>"
      ]
     },
     "execution_count": 48,
     "metadata": {},
     "output_type": "execute_result"
    }
   ],
   "source": [
    "re.search(r'h+', retest) # 多次"
   ]
  },
  {
   "cell_type": "code",
   "execution_count": 53,
   "metadata": {},
   "outputs": [],
   "source": [
    "match= re.search(r'h{0,2}', retest) # 次数范围"
   ]
  },
  {
   "cell_type": "code",
   "execution_count": 56,
   "metadata": {},
   "outputs": [
    {
     "data": {
      "text/plain": [
       "''"
      ]
     },
     "execution_count": 56,
     "metadata": {},
     "output_type": "execute_result"
    }
   ],
   "source": [
    "match.group()"
   ]
  },
  {
   "cell_type": "code",
   "execution_count": 68,
   "metadata": {},
   "outputs": [
    {
     "data": {
      "text/plain": [
       "['th', 'th', 'th', 'th', 'th', 'th', 'th', 'th', 'th', 'th']"
      ]
     },
     "execution_count": 68,
     "metadata": {},
     "output_type": "execute_result"
    }
   ],
   "source": [
    "re.findall(r'th+', retest) # 找到所有"
   ]
  },
  {
   "cell_type": "code",
   "execution_count": 69,
   "metadata": {},
   "outputs": [
    {
     "data": {
      "text/plain": [
       "'\\n\"Open Source\" is a good mechanism to develop programs.\\napple is my favorite food.\\nFootball game is not use feet only.\\n3QQQ3is dress doesn\\'t fit me.\\nHowever, 3QQQ3is dress is about $ 3183 dollars.\\nGNU is free air not free beer.\\nHer hair is very beauty.\\nI can\\'t finish 3QQQ3e test.\\nOh! The soup taste good.\\nmotorcycle is cheap 3QQQ3an car.\\nThis window is clear.\\n3QQQ3e symbol \\'*\\' is represented as start.\\nOh!\\tMy god!\\nThe gd software is a library for drafting programs.\\nYou are 3QQQ3e best is mean you are 3QQQ3e no. 1.\\nThe world <Happy> is 3QQQ3e same wi3QQQ3 \"glad\".\\nI like dog.\\ngoogle is 3QQQ3e best tools for search keyword.\\ngoooooogle yes!\\ngo! go! Let\\'s go.\\n# I am VBird\\n'"
      ]
     },
     "execution_count": 69,
     "metadata": {},
     "output_type": "execute_result"
    }
   ],
   "source": [
    "re.sub(r'th', '3QQQ3', retest) # 替换"
   ]
  },
  {
   "cell_type": "code",
   "execution_count": 72,
   "metadata": {},
   "outputs": [
    {
     "data": {
      "text/plain": [
       "['\\n\"Open Source\" is a good mechanism to develop programs.\\napple is my favorite food.\\nFootball game is not use feet only.\\nthis dress doesn\\'t fit me.\\nHowever, this dress is about $ 3183 dollars.\\nGNU is free air not free beer.\\nHer hair is very beauty.\\nI can\\'t finish the test.\\nOh! The soup taste good.\\nmotorcycle is cheap than car.\\nThis window is clear.\\nthe symbol \\'*\\' is represented as start.\\nOh!\\tMy god!\\nThe gd software is a library for drafting programs.\\nYou are the best is mean you are the no. 1.\\nThe world <Happy> is the same with \"glad\".\\nI like dog.\\ngoogle is the best tools for search keyword.\\ngoooooogle yes!\\ngo! go! Let\\'s go.\\n# I am VBird\\n']"
      ]
     },
     "execution_count": 72,
     "metadata": {},
     "output_type": "execute_result"
    }
   ],
   "source": [
    "re.split(r'^o', retest)"
   ]
  }
 ],
 "metadata": {
  "kernelspec": {
   "display_name": "Python 3",
   "language": "python",
   "name": "python3"
  },
  "language_info": {
   "codemirror_mode": {
    "name": "ipython",
    "version": 3
   },
   "file_extension": ".py",
   "mimetype": "text/x-python",
   "name": "python",
   "nbconvert_exporter": "python",
   "pygments_lexer": "ipython3",
   "version": "3.6.4"
  }
 },
 "nbformat": 4,
 "nbformat_minor": 2
}
